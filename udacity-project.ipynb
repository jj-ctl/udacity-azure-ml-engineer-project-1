{
 "cells": [
  {
   "cell_type": "code",
   "execution_count": 1,
   "metadata": {
    "gather": {
     "logged": 1598275788035
    }
   },
   "outputs": [
    {
     "ename": "UserErrorException",
     "evalue": "UserErrorException:\n\tMessage: The workspace configuration file config.json, could not be found in /home/jan/workspace/deep-learning-journey/udacity/azure-ml/udacity-azure-ml-engineer-project-1 or its parent directories. Please check whether the workspace configuration file exists, or provide the full path to the configuration file as an argument. You can download a configuration file for your workspace, via http://ml.azure.com and clicking on the name of your workspace in the right top.\n\tInnerException None\n\tErrorResponse \n{\n    \"error\": {\n        \"code\": \"UserError\",\n        \"message\": \"The workspace configuration file config.json, could not be found in /home/jan/workspace/deep-learning-journey/udacity/azure-ml/udacity-azure-ml-engineer-project-1 or its parent directories. Please check whether the workspace configuration file exists, or provide the full path to the configuration file as an argument. You can download a configuration file for your workspace, via http://ml.azure.com and clicking on the name of your workspace in the right top.\"\n    }\n}",
     "output_type": "error",
     "traceback": [
      "\u001b[0;31m---------------------------------------------------------------------------\u001b[0m",
      "\u001b[0;31mUserErrorException\u001b[0m                        Traceback (most recent call last)",
      "\u001b[1;32m/home/jan/workspace/deep-learning-journey/udacity/azure-ml/udacity-azure-ml-engineer-project-1/udacity-project.ipynb Cell 1'\u001b[0m in \u001b[0;36m<cell line: 3>\u001b[0;34m()\u001b[0m\n\u001b[1;32m      <a href='vscode-notebook-cell://wsl%2Bubuntu-20.04/home/jan/workspace/deep-learning-journey/udacity/azure-ml/udacity-azure-ml-engineer-project-1/udacity-project.ipynb#ch0000000vscode-remote?line=0'>1</a>\u001b[0m \u001b[39mfrom\u001b[39;00m \u001b[39mazureml\u001b[39;00m\u001b[39m.\u001b[39;00m\u001b[39mcore\u001b[39;00m \u001b[39mimport\u001b[39;00m Workspace, Experiment\n\u001b[0;32m----> <a href='vscode-notebook-cell://wsl%2Bubuntu-20.04/home/jan/workspace/deep-learning-journey/udacity/azure-ml/udacity-azure-ml-engineer-project-1/udacity-project.ipynb#ch0000000vscode-remote?line=2'>3</a>\u001b[0m ws \u001b[39m=\u001b[39m Workspace\u001b[39m.\u001b[39;49mfrom_config()\n\u001b[1;32m      <a href='vscode-notebook-cell://wsl%2Bubuntu-20.04/home/jan/workspace/deep-learning-journey/udacity/azure-ml/udacity-azure-ml-engineer-project-1/udacity-project.ipynb#ch0000000vscode-remote?line=3'>4</a>\u001b[0m exp \u001b[39m=\u001b[39m Experiment(workspace\u001b[39m=\u001b[39mws, name\u001b[39m=\u001b[39m\u001b[39m\"\u001b[39m\u001b[39mudacity-project\u001b[39m\u001b[39m\"\u001b[39m)\n\u001b[1;32m      <a href='vscode-notebook-cell://wsl%2Bubuntu-20.04/home/jan/workspace/deep-learning-journey/udacity/azure-ml/udacity-azure-ml-engineer-project-1/udacity-project.ipynb#ch0000000vscode-remote?line=5'>6</a>\u001b[0m \u001b[39mprint\u001b[39m(\n\u001b[1;32m      <a href='vscode-notebook-cell://wsl%2Bubuntu-20.04/home/jan/workspace/deep-learning-journey/udacity/azure-ml/udacity-azure-ml-engineer-project-1/udacity-project.ipynb#ch0000000vscode-remote?line=6'>7</a>\u001b[0m     \u001b[39m\"\u001b[39m\u001b[39mWorkspace name: \u001b[39m\u001b[39m\"\u001b[39m \u001b[39m+\u001b[39m ws\u001b[39m.\u001b[39mname,\n\u001b[1;32m      <a href='vscode-notebook-cell://wsl%2Bubuntu-20.04/home/jan/workspace/deep-learning-journey/udacity/azure-ml/udacity-azure-ml-engineer-project-1/udacity-project.ipynb#ch0000000vscode-remote?line=7'>8</a>\u001b[0m     \u001b[39m\"\u001b[39m\u001b[39mAzure region: \u001b[39m\u001b[39m\"\u001b[39m \u001b[39m+\u001b[39m ws\u001b[39m.\u001b[39mlocation,\n\u001b[0;32m   (...)\u001b[0m\n\u001b[1;32m     <a href='vscode-notebook-cell://wsl%2Bubuntu-20.04/home/jan/workspace/deep-learning-journey/udacity/azure-ml/udacity-azure-ml-engineer-project-1/udacity-project.ipynb#ch0000000vscode-remote?line=10'>11</a>\u001b[0m     sep\u001b[39m=\u001b[39m\u001b[39m\"\u001b[39m\u001b[39m\\n\u001b[39;00m\u001b[39m\"\u001b[39m,\n\u001b[1;32m     <a href='vscode-notebook-cell://wsl%2Bubuntu-20.04/home/jan/workspace/deep-learning-journey/udacity/azure-ml/udacity-azure-ml-engineer-project-1/udacity-project.ipynb#ch0000000vscode-remote?line=11'>12</a>\u001b[0m )\n",
      "File \u001b[0;32m~/workspace/deep-learning-journey/udacity/azure-ml/udacity-azure-ml-engineer-project-1/venv/lib/python3.8/site-packages/azureml/core/workspace.py:279\u001b[0m, in \u001b[0;36mWorkspace.from_config\u001b[0;34m(path, auth, _logger, _file_name)\u001b[0m\n\u001b[1;32m    <a href='file:///home/jan/workspace/deep-learning-journey/udacity/azure-ml/udacity-azure-ml-engineer-project-1/venv/lib/python3.8/site-packages/azureml/core/workspace.py?line=275'>276</a>\u001b[0m             \u001b[39mbreak\u001b[39;00m\n\u001b[1;32m    <a href='file:///home/jan/workspace/deep-learning-journey/udacity/azure-ml/udacity-azure-ml-engineer-project-1/venv/lib/python3.8/site-packages/azureml/core/workspace.py?line=277'>278</a>\u001b[0m     \u001b[39mif\u001b[39;00m \u001b[39mnot\u001b[39;00m found_path:\n\u001b[0;32m--> <a href='file:///home/jan/workspace/deep-learning-journey/udacity/azure-ml/udacity-azure-ml-engineer-project-1/venv/lib/python3.8/site-packages/azureml/core/workspace.py?line=278'>279</a>\u001b[0m         \u001b[39mraise\u001b[39;00m UserErrorException(\n\u001b[1;32m    <a href='file:///home/jan/workspace/deep-learning-journey/udacity/azure-ml/udacity-azure-ml-engineer-project-1/venv/lib/python3.8/site-packages/azureml/core/workspace.py?line=279'>280</a>\u001b[0m             \u001b[39m\"\u001b[39m\u001b[39mThe workspace configuration file config.json, could not be found in \u001b[39m\u001b[39m{}\u001b[39;00m\u001b[39m or its parent \u001b[39m\u001b[39m\"\u001b[39m\n\u001b[1;32m    <a href='file:///home/jan/workspace/deep-learning-journey/udacity/azure-ml/udacity-azure-ml-engineer-project-1/venv/lib/python3.8/site-packages/azureml/core/workspace.py?line=280'>281</a>\u001b[0m             \u001b[39m\"\u001b[39m\u001b[39mdirectories. Please check whether the workspace configuration file exists, or provide \u001b[39m\u001b[39m\"\u001b[39m\n\u001b[1;32m    <a href='file:///home/jan/workspace/deep-learning-journey/udacity/azure-ml/udacity-azure-ml-engineer-project-1/venv/lib/python3.8/site-packages/azureml/core/workspace.py?line=281'>282</a>\u001b[0m             \u001b[39m\"\u001b[39m\u001b[39mthe full path to the configuration file as an argument. You can download a configuration \u001b[39m\u001b[39m\"\u001b[39m\n\u001b[1;32m    <a href='file:///home/jan/workspace/deep-learning-journey/udacity/azure-ml/udacity-azure-ml-engineer-project-1/venv/lib/python3.8/site-packages/azureml/core/workspace.py?line=282'>283</a>\u001b[0m             \u001b[39m\"\u001b[39m\u001b[39mfile for your workspace, via http://ml.azure.com and clicking on the name of your \u001b[39m\u001b[39m\"\u001b[39m\n\u001b[1;32m    <a href='file:///home/jan/workspace/deep-learning-journey/udacity/azure-ml/udacity-azure-ml-engineer-project-1/venv/lib/python3.8/site-packages/azureml/core/workspace.py?line=283'>284</a>\u001b[0m             \u001b[39m\"\u001b[39m\u001b[39mworkspace in the right top.\u001b[39m\u001b[39m\"\u001b[39m\u001b[39m.\u001b[39mformat(\n\u001b[1;32m    <a href='file:///home/jan/workspace/deep-learning-journey/udacity/azure-ml/udacity-azure-ml-engineer-project-1/venv/lib/python3.8/site-packages/azureml/core/workspace.py?line=284'>285</a>\u001b[0m                 normalized_path))\n\u001b[1;32m    <a href='file:///home/jan/workspace/deep-learning-journey/udacity/azure-ml/udacity-azure-ml-engineer-project-1/venv/lib/python3.8/site-packages/azureml/core/workspace.py?line=286'>287</a>\u001b[0m subscription_id, resource_group, workspace_name \u001b[39m=\u001b[39m project_info\u001b[39m.\u001b[39mget_workspace_info(\n\u001b[1;32m    <a href='file:///home/jan/workspace/deep-learning-journey/udacity/azure-ml/udacity-azure-ml-engineer-project-1/venv/lib/python3.8/site-packages/azureml/core/workspace.py?line=287'>288</a>\u001b[0m     found_path)\n\u001b[1;32m    <a href='file:///home/jan/workspace/deep-learning-journey/udacity/azure-ml/udacity-azure-ml-engineer-project-1/venv/lib/python3.8/site-packages/azureml/core/workspace.py?line=289'>290</a>\u001b[0m _logger\u001b[39m.\u001b[39minfo(\u001b[39m'\u001b[39m\u001b[39mFound the config file in: \u001b[39m\u001b[39m%s\u001b[39;00m\u001b[39m'\u001b[39m, found_path)\n",
      "\u001b[0;31mUserErrorException\u001b[0m: UserErrorException:\n\tMessage: The workspace configuration file config.json, could not be found in /home/jan/workspace/deep-learning-journey/udacity/azure-ml/udacity-azure-ml-engineer-project-1 or its parent directories. Please check whether the workspace configuration file exists, or provide the full path to the configuration file as an argument. You can download a configuration file for your workspace, via http://ml.azure.com and clicking on the name of your workspace in the right top.\n\tInnerException None\n\tErrorResponse \n{\n    \"error\": {\n        \"code\": \"UserError\",\n        \"message\": \"The workspace configuration file config.json, could not be found in /home/jan/workspace/deep-learning-journey/udacity/azure-ml/udacity-azure-ml-engineer-project-1 or its parent directories. Please check whether the workspace configuration file exists, or provide the full path to the configuration file as an argument. You can download a configuration file for your workspace, via http://ml.azure.com and clicking on the name of your workspace in the right top.\"\n    }\n}"
     ]
    }
   ],
   "source": [
    "from azureml.core import Workspace, Experiment\n",
    "\n",
    "ws = Workspace.from_config()\n",
    "exp = Experiment(workspace=ws, name=\"udacity-project\")\n",
    "\n",
    "print(\n",
    "    \"Workspace name: \" + ws.name,\n",
    "    \"Azure region: \" + ws.location,\n",
    "    \"Subscription id: \" + ws.subscription_id,\n",
    "    \"Resource group: \" + ws.resource_group,\n",
    "    sep=\"\\n\",\n",
    ")\n",
    "\n",
    "run = exp.start_logging()\n"
   ]
  },
  {
   "cell_type": "code",
   "execution_count": null,
   "metadata": {
    "gather": {
     "logged": 1598275788675
    },
    "jupyter": {
     "outputs_hidden": false,
     "source_hidden": false
    },
    "nteract": {
     "transient": {
      "deleting": false
     }
    }
   },
   "outputs": [],
   "source": [
    "from azureml.core.compute import ComputeTarget, AmlCompute\n",
    "\n",
    "cluster_name = \"my_aml_cluster\"\n",
    "\n",
    "# TODO: Create compute cluster\n",
    "# Use vm_size = \"Standard_D2_V2\" in your provisioning configuration.\n",
    "# max_nodes should be no greater than 4.\n",
    "\n",
    "### YOUR CODE HERE ###\n",
    "# form lecture #boiler plate\n",
    "\n",
    "MAX_NODES = 3\n",
    "VM_SIZE = \"Standard_D2_V2\"\n",
    "try:\n",
    "    compute_target = ComputeTarget(workspace=ws, name=cluster_name)\n",
    "    print(\"Found existing cluster, use it.\")\n",
    "except:\n",
    "    print(f\"Creating ({MAX_NODES} of {VM_SIZE})\")\n",
    "    compute_config = AmlCompute.provisioning_configuration(\n",
    "        vm_size=VM_SIZE, max_nodes=MAX_NODES\n",
    "    )\n",
    "    compute_target = ComputeTarget.create(ws, cluster_name, compute_config)\n",
    "\n",
    "compute_target.wait_for_completion(show_output=True)\n",
    "print(\"Init compute resource done\")\n",
    "print(compute_target.get_status())\n"
   ]
  },
  {
   "cell_type": "code",
   "execution_count": null,
   "metadata": {
    "gather": {
     "logged": 1598275789986
    },
    "jupyter": {
     "outputs_hidden": false,
     "source_hidden": false
    },
    "nteract": {
     "transient": {
      "deleting": false
     }
    }
   },
   "outputs": [],
   "source": [
    "from azureml.widgets import RunDetails\n",
    "from azureml.train.sklearn import SKLearn\n",
    "from azureml.train.hyperdrive.run import PrimaryMetricGoal\n",
    "from azureml.train.hyperdrive.policy import BanditPolicy\n",
    "from azureml.train.hyperdrive.sampling import RandomParameterSampling\n",
    "from azureml.train.hyperdrive.runconfig import HyperDriveConfig\n",
    "from azureml.train.hyperdrive.parameter_expressions import choice, uniform\n",
    "from azureml.core import Environment, ScriptRunConfig\n",
    "import os\n",
    "\n",
    "# Specify parameter sampler\n",
    "ps = RandomParameterSampling(\n",
    "    {\n",
    "        \"--C\": uniform(0.01, 10.0),\n",
    "        \"--max_iter\": choice( 64, 128, 256,512),\n",
    "    }\n",
    ")\n",
    "\n",
    "# Specify a Policy\n",
    "# see https://azure.github.io/azureml-sdk-for-r/reference/bandit_policy.html#:~:text=Bandit%20is%20an%20early%20termination,the%20best%20performing%20training%20run.\n",
    "policy = BanditPolicy(slack_factor=0.1, evaluation_interval=1, delay_evaluation=5)\n",
    "\n",
    "if \"training\" not in os.listdir():\n",
    "    os.mkdir(\"./training\")\n",
    "\n",
    "# Setup environment for your training run\n",
    "sklearn_env = Environment.from_conda_specification(\n",
    "    name=\"sklearn-env\", file_path=\"conda_dependencies.yml\"\n",
    ")\n",
    "\n",
    "# Create a ScriptRunConfig Object to specify the configuration details of your training job\n",
    "src = ScriptRunConfig(\n",
    "    source_directory=\".\",\n",
    "    script=\"train.py\",\n",
    "    compute_target=compute_target,\n",
    "    environment=sklearn_env,\n",
    ")\n",
    "\n",
    "# Create a HyperDriveConfig using the src object, hyperparameter sampler, and policy.\n",
    "hyperdrive_config = HyperDriveConfig(\n",
    "    run_config=src,\n",
    "    hyperparameter_sampling=ps,\n",
    "    primary_metric_name=\"Accuracy\",\n",
    "    primary_metric_goal=PrimaryMetricGoal.MAXIMIZE,\n",
    "    max_total_runs=4,\n",
    "    policy=policy,\n",
    ")  ### YOUR CODE HERE ###\n"
   ]
  },
  {
   "cell_type": "code",
   "execution_count": null,
   "metadata": {},
   "outputs": [],
   "source": [
    "# Submit your hyperdrive run to the experiment and show run details with the widget.\n",
    "\n",
    "### YOUR CODE HERE ###\n",
    "hd_run = exp.submit(config=hyperdrive_config)\n",
    "RunDetails(hd_run).show()\n",
    "hd_run.wait_for_completion(show_output=True)"
   ]
  },
  {
   "cell_type": "code",
   "execution_count": null,
   "metadata": {
    "gather": {
     "logged": 1598276310862
    },
    "jupyter": {
     "outputs_hidden": false,
     "source_hidden": false
    },
    "nteract": {
     "transient": {
      "deleting": false
     }
    }
   },
   "outputs": [],
   "source": [
    "import joblib\n",
    "\n",
    "# Get your best run and save the model from that run.\n",
    "best_run = hd_run.get_best_run_by_primary_metric()\n",
    "metrics = hd_run.get_metrics()\n",
    "\n",
    "print(f\"Best Accuracy: {metrics['Accuracy']}\")\n",
    "# save the model\n",
    "the_model = best_run.register_model(\"best_hd_model\", model_path=\"./\")\n",
    "the_model"
   ]
  },
  {
   "cell_type": "code",
   "execution_count": null,
   "metadata": {},
   "outputs": [],
   "source": [
    "from azureml.data.dataset_factory import TabularDatasetFactory\n",
    "\n",
    "# Create TabularDataset using TabularDatasetFactory\n",
    "# Data is available at:\n",
    "# \"https://automlsamplenotebookdata.blob.core.windows.net/automl-sample-notebook-data/bankmarketing_train.csv\"\n",
    "\n",
    "### YOUR CODE HERE ###\n",
    "#same as in train.py\n",
    "ds = TabularDatasetFactory.from_delimited_files(\n",
    "        \"https://automlsamplenotebookdata.blob.core.windows.net/automl-sample-notebook-data/bankmarketing_train.csv\"\n",
    "    )\n",
    "\n"
   ]
  },
  {
   "cell_type": "code",
   "execution_count": null,
   "metadata": {
    "gather": {
     "logged": 1598275726969
    },
    "jupyter": {
     "outputs_hidden": false,
     "source_hidden": false
    },
    "nteract": {
     "transient": {
      "deleting": false
     }
    }
   },
   "outputs": [],
   "source": [
    "from train import clean_data, TEST_SIZE, LUCKY_NUMBER\n",
    "from sklearn.model_selection import train_test_split\n",
    "import pandas as pd\n",
    "\n",
    "# Use the clean_data function to clean your data.\n",
    "x, y = clean_data(ds)\n",
    "# split it as in train.py\n",
    "x_train, x_test, y_train, y_test = train_test_split(\n",
    "    x, y, test_size=TEST_SIZE, random_state=LUCKY_NUMBER\n",
    ")\n",
    "\n",
    "combine = pd.concat([x_train, y_train], axis=1)\n"
   ]
  },
  {
   "cell_type": "code",
   "execution_count": null,
   "metadata": {
    "gather": {
     "logged": 1598275665403
    },
    "jupyter": {
     "outputs_hidden": false,
     "source_hidden": false
    },
    "nteract": {
     "transient": {
      "deleting": false
     }
    }
   },
   "outputs": [],
   "source": [
    "from azureml.train.automl import AutoMLConfig\n",
    "\n",
    "# Set parameters for AutoMLConfig\n",
    "# NOTE: DO NOT CHANGE THE experiment_timeout_minutes PARAMETER OR YOUR INSTANCE WILL TIME OUT.\n",
    "# If you wish to run the experiment longer, you will need to run this notebook in your own\n",
    "# Azure tenant, which will incur personal costs.\n",
    "automl_config = AutoMLConfig(\n",
    "    experiment_timeout_minutes=30,\n",
    "    task=\"classification\",\n",
    "    primary_metric=\"accuracy\",\n",
    "    training_data=combine,\n",
    "    label_column_name=\"y\",\n",
    "    n_cross_validations=5,\n",
    ")\n"
   ]
  },
  {
   "cell_type": "code",
   "execution_count": 2,
   "metadata": {
    "jupyter": {
     "outputs_hidden": false,
     "source_hidden": false
    },
    "nteract": {
     "transient": {
      "deleting": false
     }
    }
   },
   "outputs": [],
   "source": [
    "# Submit your automl run\n",
    "\n",
    "### YOUR CODE HERE ###\n",
    "automl_run = Experiment(workspace=ws, name=\"udacity-prj-1-automl\").submit(automl_config)\n",
    "automl_run.wait_for_completion(show_output=True)\n",
    "RunDetails(aml_run).show()"
   ]
  },
  {
   "cell_type": "code",
   "execution_count": null,
   "metadata": {},
   "outputs": [],
   "source": [
    "# Retrieve and save your best automl model.\n",
    "\n",
    "### YOUR CODE HERE ###\n"
   ]
  }
 ],
 "metadata": {
  "kernel_info": {
   "name": "python3-azureml"
  },
  "kernelspec": {
   "display_name": "Python 3",
   "language": "python",
   "name": "python3"
  },
  "language_info": {
   "codemirror_mode": {
    "name": "ipython",
    "version": 3
   },
   "file_extension": ".py",
   "mimetype": "text/x-python",
   "name": "python",
   "nbconvert_exporter": "python",
   "pygments_lexer": "ipython3",
   "version": "3.8.10"
  },
  "nteract": {
   "version": "nteract-front-end@1.0.0"
  }
 },
 "nbformat": 4,
 "nbformat_minor": 2
}
